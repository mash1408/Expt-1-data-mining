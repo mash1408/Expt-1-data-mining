{
  "nbformat": 4,
  "nbformat_minor": 0,
  "metadata": {
    "colab": {
      "name": "Untitled4.ipynb",
      "provenance": [],
      "collapsed_sections": []
    },
    "kernelspec": {
      "name": "python3",
      "display_name": "Python 3"
    },
    "language_info": {
      "name": "python"
    }
  },
  "cells": [
    {
      "cell_type": "code",
      "metadata": {
        "colab": {
          "base_uri": "https://localhost:8080/",
          "height": 726
        },
        "id": "VNt1ViYOy-2i",
        "outputId": "26742e96-1438-4878-f60d-40444a6c8aad"
      },
      "source": [
        "from PIL import Image\n",
        "import os\n",
        "import pandas as pd\n",
        "import matplotlib.pyplot as plt\n",
        "import matplotlib.pyplot as plt\n",
        "nf = pd.DataFrame([\n",
        "[18, 110, 18.9, 89],\n",
        "[36, 905, 23.4, 67],\n",
        "[23, 230, 14.0, 48],\n",
        "[16, 110, 16.9, 67],\n",
        "[18, 110, 18.3, 87],\n",
        "[13, 110, 12.4, 98],\n",
        "[60, 450, 13.5, 90],\n",
        "[18, 110, 18.9, 89]],\n",
        "columns=['Age', 'work_hours',\n",
        "'years_of_exp', 'efficiency'])\n",
        "\n",
        "nfz=nf.copy()\n",
        "import statistics\n",
        "import math\n",
        "def variance(data, ddof=0):\n",
        "  n = len(data)\n",
        "  mean = sum(data) / n\n",
        "  return sum((x - mean) ** 2 for x in data) / (n - ddof)\n",
        "def stdev(data):\n",
        "  var = variance(data)\n",
        "  std_dev = math.sqrt(var)\n",
        "  return std_dev\n",
        "display(nf)\n",
        "for column in nfz.columns:\n",
        "  nfz[column]=nfz[column]-stdev(nfz[column])/statistics.mean(nfz[column])\n",
        "print(nfz)\n",
        "nfz.plot(kind = 'bar')\n"
      ],
      "execution_count": 15,
      "outputs": [
        {
          "output_type": "display_data",
          "data": {
            "text/html": [
              "<div>\n",
              "<style scoped>\n",
              "    .dataframe tbody tr th:only-of-type {\n",
              "        vertical-align: middle;\n",
              "    }\n",
              "\n",
              "    .dataframe tbody tr th {\n",
              "        vertical-align: top;\n",
              "    }\n",
              "\n",
              "    .dataframe thead th {\n",
              "        text-align: right;\n",
              "    }\n",
              "</style>\n",
              "<table border=\"1\" class=\"dataframe\">\n",
              "  <thead>\n",
              "    <tr style=\"text-align: right;\">\n",
              "      <th></th>\n",
              "      <th>Age</th>\n",
              "      <th>work_hours</th>\n",
              "      <th>years_of_exp</th>\n",
              "      <th>efficiency</th>\n",
              "    </tr>\n",
              "  </thead>\n",
              "  <tbody>\n",
              "    <tr>\n",
              "      <th>0</th>\n",
              "      <td>18</td>\n",
              "      <td>110</td>\n",
              "      <td>18.9</td>\n",
              "      <td>89</td>\n",
              "    </tr>\n",
              "    <tr>\n",
              "      <th>1</th>\n",
              "      <td>36</td>\n",
              "      <td>905</td>\n",
              "      <td>23.4</td>\n",
              "      <td>67</td>\n",
              "    </tr>\n",
              "    <tr>\n",
              "      <th>2</th>\n",
              "      <td>23</td>\n",
              "      <td>230</td>\n",
              "      <td>14.0</td>\n",
              "      <td>48</td>\n",
              "    </tr>\n",
              "    <tr>\n",
              "      <th>3</th>\n",
              "      <td>16</td>\n",
              "      <td>110</td>\n",
              "      <td>16.9</td>\n",
              "      <td>67</td>\n",
              "    </tr>\n",
              "    <tr>\n",
              "      <th>4</th>\n",
              "      <td>18</td>\n",
              "      <td>110</td>\n",
              "      <td>18.3</td>\n",
              "      <td>87</td>\n",
              "    </tr>\n",
              "    <tr>\n",
              "      <th>5</th>\n",
              "      <td>13</td>\n",
              "      <td>110</td>\n",
              "      <td>12.4</td>\n",
              "      <td>98</td>\n",
              "    </tr>\n",
              "    <tr>\n",
              "      <th>6</th>\n",
              "      <td>60</td>\n",
              "      <td>450</td>\n",
              "      <td>13.5</td>\n",
              "      <td>90</td>\n",
              "    </tr>\n",
              "    <tr>\n",
              "      <th>7</th>\n",
              "      <td>18</td>\n",
              "      <td>110</td>\n",
              "      <td>18.9</td>\n",
              "      <td>89</td>\n",
              "    </tr>\n",
              "  </tbody>\n",
              "</table>\n",
              "</div>"
            ],
            "text/plain": [
              "   Age  work_hours  years_of_exp  efficiency\n",
              "0   18         110          18.9          89\n",
              "1   36         905          23.4          67\n",
              "2   23         230          14.0          48\n",
              "3   16         110          16.9          67\n",
              "4   18         110          18.3          87\n",
              "5   13         110          12.4          98\n",
              "6   60         450          13.5          90\n",
              "7   18         110          18.9          89"
            ]
          },
          "metadata": {}
        },
        {
          "output_type": "stream",
          "name": "stdout",
          "text": [
            "         Age  work_hours  years_of_exp  efficiency\n",
            "0  17.419039  109.004072     18.700657   88.801107\n",
            "1  35.419039  904.004072     23.200657   66.801107\n",
            "2  22.419039  229.004072     13.800657   47.801107\n",
            "3  15.419039  109.004072     16.700657   66.801107\n",
            "4  17.419039  109.004072     18.100657   86.801107\n",
            "5  12.419039  109.004072     12.200657   97.801107\n",
            "6  59.419039  449.004072     13.300657   89.801107\n",
            "7  17.419039  109.004072     18.700657   88.801107\n"
          ]
        },
        {
          "output_type": "execute_result",
          "data": {
            "text/plain": [
              "<matplotlib.axes._subplots.AxesSubplot at 0x7f1b8e228a90>"
            ]
          },
          "metadata": {},
          "execution_count": 15
        },
        {
          "output_type": "display_data",
          "data": {
            "image/png": "[encoded data removed]",
            "text/plain": [
              "<Figure size 432x288 with 1 Axes>"
            ]
          },
          "metadata": {
            "needs_background": "light"
          }
        }
      ]
    },
    {
      "cell_type": "code",
      "metadata": {
        "colab": {
          "base_uri": "https://localhost:8080/",
          "height": 563
        },
        "id": "-8cIZHf_zwRP",
        "outputId": "76d9fa24-cb7d-42b1-8ef9-15269b01e51e"
      },
      "source": [
        "#Decimal scaling\n",
        "from math import floor\n",
        "\n",
        "\n",
        "nfd=nf.copy()\n",
        "def getMinDigits(data):\n",
        "  if(data<1):\n",
        "    return\n",
        "  return int(math.log10(data))+1\n",
        "\n",
        "for column in nfd.columns:\n",
        "  maxValueOfCol=max(nfd[column])\n",
        "  nfd[column]=nfd[column]/10**getMinDigits(maxValueOfCol)\n",
        "display(nfd)\n",
        "nfd.columns=columns\n",
        "nfd.plot(kind = 'bar')"
      ],
      "execution_count": 16,
      "outputs": [
        {
          "output_type": "display_data",
          "data": {
            "text/html": [
              "<div>\n",
              "<style scoped>\n",
              "    .dataframe tbody tr th:only-of-type {\n",
              "        vertical-align: middle;\n",
              "    }\n",
              "\n",
              "    .dataframe tbody tr th {\n",
              "        vertical-align: top;\n",
              "    }\n",
              "\n",
              "    .dataframe thead th {\n",
              "        text-align: right;\n",
              "    }\n",
              "</style>\n",
              "<table border=\"1\" class=\"dataframe\">\n",
              "  <thead>\n",
              "    <tr style=\"text-align: right;\">\n",
              "      <th></th>\n",
              "      <th>Age</th>\n",
              "      <th>work_hours</th>\n",
              "      <th>years_of_exp</th>\n",
              "      <th>efficiency</th>\n",
              "    </tr>\n",
              "  </thead>\n",
              "  <tbody>\n",
              "    <tr>\n",
              "      <th>0</th>\n",
              "      <td>0.18</td>\n",
              "      <td>0.110</td>\n",
              "      <td>0.189</td>\n",
              "      <td>0.89</td>\n",
              "    </tr>\n",
              "    <tr>\n",
              "      <th>1</th>\n",
              "      <td>0.36</td>\n",
              "      <td>0.905</td>\n",
              "      <td>0.234</td>\n",
              "      <td>0.67</td>\n",
              "    </tr>\n",
              "    <tr>\n",
              "      <th>2</th>\n",
              "      <td>0.23</td>\n",
              "      <td>0.230</td>\n",
              "      <td>0.140</td>\n",
              "      <td>0.48</td>\n",
              "    </tr>\n",
              "    <tr>\n",
              "      <th>3</th>\n",
              "      <td>0.16</td>\n",
              "      <td>0.110</td>\n",
              "      <td>0.169</td>\n",
              "      <td>0.67</td>\n",
              "    </tr>\n",
              "    <tr>\n",
              "      <th>4</th>\n",
              "      <td>0.18</td>\n",
              "      <td>0.110</td>\n",
              "      <td>0.183</td>\n",
              "      <td>0.87</td>\n",
              "    </tr>\n",
              "    <tr>\n",
              "      <th>5</th>\n",
              "      <td>0.13</td>\n",
              "      <td>0.110</td>\n",
              "      <td>0.124</td>\n",
              "      <td>0.98</td>\n",
              "    </tr>\n",
              "    <tr>\n",
              "      <th>6</th>\n",
              "      <td>0.60</td>\n",
              "      <td>0.450</td>\n",
              "      <td>0.135</td>\n",
              "      <td>0.90</td>\n",
              "    </tr>\n",
              "    <tr>\n",
              "      <th>7</th>\n",
              "      <td>0.18</td>\n",
              "      <td>0.110</td>\n",
              "      <td>0.189</td>\n",
              "      <td>0.89</td>\n",
              "    </tr>\n",
              "  </tbody>\n",
              "</table>\n",
              "</div>"
            ],
            "text/plain": [
              "    Age  work_hours  years_of_exp  efficiency\n",
              "0  0.18       0.110         0.189        0.89\n",
              "1  0.36       0.905         0.234        0.67\n",
              "2  0.23       0.230         0.140        0.48\n",
              "3  0.16       0.110         0.169        0.67\n",
              "4  0.18       0.110         0.183        0.87\n",
              "5  0.13       0.110         0.124        0.98\n",
              "6  0.60       0.450         0.135        0.90\n",
              "7  0.18       0.110         0.189        0.89"
            ]
          },
          "metadata": {}
        },
        {
          "output_type": "execute_result",
          "data": {
            "text/plain": [
              "<matplotlib.axes._subplots.AxesSubplot at 0x7f1b8e23dd50>"
            ]
          },
          "metadata": {},
          "execution_count": 16
        },
        {
          "output_type": "display_data",
          "data": {
            "image/png": "[encoded data removed]",
            "text/plain": [
              "<Figure size 432x288 with 1 Axes>"
            ]
          },
          "metadata": {
            "needs_background": "light"
          }
        }
      ]
    },
    {
      "cell_type": "code",
      "metadata": {
        "id": "ILm-3Gfyzyuv"
      },
      "source": [
        ""
      ],
      "execution_count": null,
      "outputs": []
    }
  ]
}